{
 "cells": [
  {
   "cell_type": "markdown",
   "metadata": {},
   "source": [
    "# Reading station weather data\n",
    "\n"
   ]
  },
  {
   "cell_type": "code",
   "execution_count": 12,
   "metadata": {},
   "outputs": [],
   "source": [
    "# disable future warning\n",
    "import warnings\n",
    "warnings.simplefilter('ignore')\n",
    "\n",
    "from meteostat import Stations, Daily\n",
    "import geopandas as gp\n",
    "import pandas as pd\n",
    "from datetime import datetime"
   ]
  },
  {
   "cell_type": "code",
   "execution_count": 7,
   "metadata": {},
   "outputs": [],
   "source": [
    "query = Stations()\n",
    "query.region(\"DE\")\n",
    "stations = query.fetch()\n",
    "stations.reset_index(inplace=True)"
   ]
  },
  {
   "cell_type": "code",
   "execution_count": 8,
   "metadata": {},
   "outputs": [
    {
     "data": {
      "text/plain": [
       "0                id\n",
       "1              name\n",
       "2           country\n",
       "3            region\n",
       "4               wmo\n",
       "5              icao\n",
       "6          latitude\n",
       "7         longitude\n",
       "8         elevation\n",
       "9          timezone\n",
       "10     hourly_start\n",
       "11       hourly_end\n",
       "12      daily_start\n",
       "13        daily_end\n",
       "14    monthly_start\n",
       "15      monthly_end\n",
       "dtype: object"
      ]
     },
     "execution_count": 8,
     "metadata": {},
     "output_type": "execute_result"
    }
   ],
   "source": [
    "pd.Series(stations.columns)"
   ]
  },
  {
   "cell_type": "code",
   "execution_count": 9,
   "metadata": {},
   "outputs": [],
   "source": [
    "# remove unnecessary station data\n",
    "cols = [\n",
    "    'id',\n",
    "    'latitude',\n",
    "    'longitude',\n",
    "    'elevation',\n",
    "    'daily_start',\n",
    "    'daily_end'\n",
    "]\n",
    "stations = stations[cols]"
   ]
  },
  {
   "cell_type": "code",
   "execution_count": 13,
   "metadata": {},
   "outputs": [
    {
     "data": {
      "text/html": [
       "<div>\n",
       "<style scoped>\n",
       "    .dataframe tbody tr th:only-of-type {\n",
       "        vertical-align: middle;\n",
       "    }\n",
       "\n",
       "    .dataframe tbody tr th {\n",
       "        vertical-align: top;\n",
       "    }\n",
       "\n",
       "    .dataframe thead th {\n",
       "        text-align: right;\n",
       "    }\n",
       "</style>\n",
       "<table border=\"1\" class=\"dataframe\">\n",
       "  <thead>\n",
       "    <tr style=\"text-align: right;\">\n",
       "      <th></th>\n",
       "      <th>id</th>\n",
       "      <th>latitude</th>\n",
       "      <th>longitude</th>\n",
       "      <th>elevation</th>\n",
       "      <th>daily_start</th>\n",
       "      <th>daily_end</th>\n",
       "    </tr>\n",
       "  </thead>\n",
       "  <tbody>\n",
       "    <tr>\n",
       "      <th>2</th>\n",
       "      <td>01001</td>\n",
       "      <td>70.9333</td>\n",
       "      <td>-8.6667</td>\n",
       "      <td>10.0</td>\n",
       "      <td>1921-12-31</td>\n",
       "      <td>2022-11-24</td>\n",
       "    </tr>\n",
       "    <tr>\n",
       "      <th>5</th>\n",
       "      <td>01004</td>\n",
       "      <td>78.9167</td>\n",
       "      <td>11.9333</td>\n",
       "      <td>8.0</td>\n",
       "      <td>1968-12-31</td>\n",
       "      <td>1997-03-01</td>\n",
       "    </tr>\n",
       "    <tr>\n",
       "      <th>8</th>\n",
       "      <td>01007</td>\n",
       "      <td>78.9167</td>\n",
       "      <td>11.9333</td>\n",
       "      <td>0.0</td>\n",
       "      <td>1973-03-28</td>\n",
       "      <td>2022-11-24</td>\n",
       "    </tr>\n",
       "    <tr>\n",
       "      <th>9</th>\n",
       "      <td>01008</td>\n",
       "      <td>78.2500</td>\n",
       "      <td>15.4667</td>\n",
       "      <td>2.0</td>\n",
       "      <td>1975-08-01</td>\n",
       "      <td>2022-11-23</td>\n",
       "    </tr>\n",
       "    <tr>\n",
       "      <th>10</th>\n",
       "      <td>01015</td>\n",
       "      <td>69.6000</td>\n",
       "      <td>17.8333</td>\n",
       "      <td>14.0</td>\n",
       "      <td>1979-10-31</td>\n",
       "      <td>2021-09-06</td>\n",
       "    </tr>\n",
       "    <tr>\n",
       "      <th>...</th>\n",
       "      <td>...</td>\n",
       "      <td>...</td>\n",
       "      <td>...</td>\n",
       "      <td>...</td>\n",
       "      <td>...</td>\n",
       "      <td>...</td>\n",
       "    </tr>\n",
       "    <tr>\n",
       "      <th>15295</th>\n",
       "      <td>U9ANI</td>\n",
       "      <td>33.0833</td>\n",
       "      <td>-116.6300</td>\n",
       "      <td>1285.0</td>\n",
       "      <td>1893-01-01</td>\n",
       "      <td>2022-11-13</td>\n",
       "    </tr>\n",
       "    <tr>\n",
       "      <th>15373</th>\n",
       "      <td>UUEE0</td>\n",
       "      <td>55.9667</td>\n",
       "      <td>37.4000</td>\n",
       "      <td>192.0</td>\n",
       "      <td>1973-02-20</td>\n",
       "      <td>2022-04-25</td>\n",
       "    </tr>\n",
       "    <tr>\n",
       "      <th>15376</th>\n",
       "      <td>UUWW0</td>\n",
       "      <td>55.5833</td>\n",
       "      <td>37.2667</td>\n",
       "      <td>209.0</td>\n",
       "      <td>1973-02-18</td>\n",
       "      <td>2022-04-25</td>\n",
       "    </tr>\n",
       "    <tr>\n",
       "      <th>15415</th>\n",
       "      <td>VGHS0</td>\n",
       "      <td>23.8433</td>\n",
       "      <td>90.3978</td>\n",
       "      <td>10.0</td>\n",
       "      <td>1943-08-01</td>\n",
       "      <td>2022-04-25</td>\n",
       "    </tr>\n",
       "    <tr>\n",
       "      <th>15458</th>\n",
       "      <td>VYTN0</td>\n",
       "      <td>26.3670</td>\n",
       "      <td>96.7330</td>\n",
       "      <td>210.0</td>\n",
       "      <td>1944-05-04</td>\n",
       "      <td>1944-05-18</td>\n",
       "    </tr>\n",
       "  </tbody>\n",
       "</table>\n",
       "<p>7143 rows × 6 columns</p>\n",
       "</div>"
      ],
      "text/plain": [
       "          id  latitude  longitude  elevation daily_start  daily_end\n",
       "2      01001   70.9333    -8.6667       10.0  1921-12-31 2022-11-24\n",
       "5      01004   78.9167    11.9333        8.0  1968-12-31 1997-03-01\n",
       "8      01007   78.9167    11.9333        0.0  1973-03-28 2022-11-24\n",
       "9      01008   78.2500    15.4667        2.0  1975-08-01 2022-11-23\n",
       "10     01015   69.6000    17.8333       14.0  1979-10-31 2021-09-06\n",
       "...      ...       ...        ...        ...         ...        ...\n",
       "15295  U9ANI   33.0833  -116.6300     1285.0  1893-01-01 2022-11-13\n",
       "15373  UUEE0   55.9667    37.4000      192.0  1973-02-20 2022-04-25\n",
       "15376  UUWW0   55.5833    37.2667      209.0  1973-02-18 2022-04-25\n",
       "15415  VGHS0   23.8433    90.3978       10.0  1943-08-01 2022-04-25\n",
       "15458  VYTN0   26.3670    96.7330      210.0  1944-05-04 1944-05-18\n",
       "\n",
       "[7143 rows x 6 columns]"
      ]
     },
     "execution_count": 13,
     "metadata": {},
     "output_type": "execute_result"
    }
   ],
   "source": [
    "stations[stations['daily_start'] <= datetime(1985, 12, 31)]"
   ]
  }
 ],
 "metadata": {
  "kernelspec": {
   "display_name": "Python 3.11.0 ('thesis')",
   "language": "python",
   "name": "python3"
  },
  "language_info": {
   "codemirror_mode": {
    "name": "ipython",
    "version": 3
   },
   "file_extension": ".py",
   "mimetype": "text/x-python",
   "name": "python",
   "nbconvert_exporter": "python",
   "pygments_lexer": "ipython3",
   "version": "3.11.0"
  },
  "orig_nbformat": 4,
  "vscode": {
   "interpreter": {
    "hash": "10416539d8bd7745bfd84da934453afb2f17a286a80737bde1b4f151ea1b0bb8"
   }
  }
 },
 "nbformat": 4,
 "nbformat_minor": 2
}
