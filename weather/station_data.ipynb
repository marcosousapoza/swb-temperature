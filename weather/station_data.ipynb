{
 "cells": [
  {
   "cell_type": "markdown",
   "metadata": {},
   "source": [
    "# Reading station weather data\n",
    "\n"
   ]
  },
  {
   "cell_type": "code",
   "execution_count": 5,
   "metadata": {},
   "outputs": [],
   "source": [
    "# disable future warning\n",
    "import warnings\n",
    "warnings.simplefilter('ignore')\n",
    "\n",
    "# other imports\n",
    "from meteostat import Stations, Daily\n",
    "import geopandas as gp\n",
    "import pandas as pd\n",
    "import queue\n",
    "from os import listdir\n",
    "from concurrent.futures import ThreadPoolExecutor\n",
    "from shapely.geometry import Point\n",
    "from datetime import date, datetime\n",
    "from tqdm import tqdm"
   ]
  },
  {
   "attachments": {},
   "cell_type": "markdown",
   "metadata": {},
   "source": [
    "Reading the station info. To see how it was created see `./stationdata_info.ipynb`."
   ]
  },
  {
   "cell_type": "code",
   "execution_count": 6,
   "metadata": {},
   "outputs": [
    {
     "data": {
      "text/html": [
       "<div>\n",
       "<style scoped>\n",
       "    .dataframe tbody tr th:only-of-type {\n",
       "        vertical-align: middle;\n",
       "    }\n",
       "\n",
       "    .dataframe tbody tr th {\n",
       "        vertical-align: top;\n",
       "    }\n",
       "\n",
       "    .dataframe thead th {\n",
       "        text-align: right;\n",
       "    }\n",
       "</style>\n",
       "<table border=\"1\" class=\"dataframe\">\n",
       "  <thead>\n",
       "    <tr style=\"text-align: right;\">\n",
       "      <th></th>\n",
       "      <th>id</th>\n",
       "      <th>latitude</th>\n",
       "      <th>longitude</th>\n",
       "      <th>elevation</th>\n",
       "      <th>daily_start</th>\n",
       "      <th>daily_end</th>\n",
       "      <th>NUTS_CODE_3</th>\n",
       "      <th>NUTS_NAME_3</th>\n",
       "      <th>NUTS_CODE_2</th>\n",
       "      <th>NUTS_NAME_2</th>\n",
       "      <th>NUTS_CODE_1</th>\n",
       "      <th>NUTS_NAME_1</th>\n",
       "      <th>geometry</th>\n",
       "    </tr>\n",
       "  </thead>\n",
       "  <tbody>\n",
       "    <tr>\n",
       "      <th>0</th>\n",
       "      <td>10015</td>\n",
       "      <td>54.1833</td>\n",
       "      <td>7.9000</td>\n",
       "      <td>4.0</td>\n",
       "      <td>1952-05-01</td>\n",
       "      <td>2023-01-04</td>\n",
       "      <td>DEF09</td>\n",
       "      <td>Pinneberg</td>\n",
       "      <td>DEF0</td>\n",
       "      <td>Schleswig-Holstein</td>\n",
       "      <td>DEF</td>\n",
       "      <td>Schleswig-Holstein</td>\n",
       "      <td>POINT (7.90000 54.18330)</td>\n",
       "    </tr>\n",
       "    <tr>\n",
       "      <th>1</th>\n",
       "      <td>10018</td>\n",
       "      <td>54.9167</td>\n",
       "      <td>8.3500</td>\n",
       "      <td>16.0</td>\n",
       "      <td>2009-02-24</td>\n",
       "      <td>2022-04-25</td>\n",
       "      <td>DEF07</td>\n",
       "      <td>Nordfriesland</td>\n",
       "      <td>DEF0</td>\n",
       "      <td>Schleswig-Holstein</td>\n",
       "      <td>DEF</td>\n",
       "      <td>Schleswig-Holstein</td>\n",
       "      <td>POINT (8.35000 54.91670)</td>\n",
       "    </tr>\n",
       "    <tr>\n",
       "      <th>2</th>\n",
       "      <td>10020</td>\n",
       "      <td>55.0167</td>\n",
       "      <td>8.4167</td>\n",
       "      <td>26.0</td>\n",
       "      <td>1931-01-01</td>\n",
       "      <td>2023-01-04</td>\n",
       "      <td>DEF07</td>\n",
       "      <td>Nordfriesland</td>\n",
       "      <td>DEF0</td>\n",
       "      <td>Schleswig-Holstein</td>\n",
       "      <td>DEF</td>\n",
       "      <td>Schleswig-Holstein</td>\n",
       "      <td>POINT (8.41670 55.01670)</td>\n",
       "    </tr>\n",
       "    <tr>\n",
       "      <th>3</th>\n",
       "      <td>10022</td>\n",
       "      <td>54.8000</td>\n",
       "      <td>8.9500</td>\n",
       "      <td>7.0</td>\n",
       "      <td>1973-01-01</td>\n",
       "      <td>2023-01-04</td>\n",
       "      <td>DEF07</td>\n",
       "      <td>Nordfriesland</td>\n",
       "      <td>DEF0</td>\n",
       "      <td>Schleswig-Holstein</td>\n",
       "      <td>DEF</td>\n",
       "      <td>Schleswig-Holstein</td>\n",
       "      <td>POINT (8.95000 54.80000)</td>\n",
       "    </tr>\n",
       "    <tr>\n",
       "      <th>4</th>\n",
       "      <td>10026</td>\n",
       "      <td>54.5167</td>\n",
       "      <td>9.1500</td>\n",
       "      <td>28.0</td>\n",
       "      <td>1891-01-01</td>\n",
       "      <td>1974-06-30</td>\n",
       "      <td>DEF07</td>\n",
       "      <td>Nordfriesland</td>\n",
       "      <td>DEF0</td>\n",
       "      <td>Schleswig-Holstein</td>\n",
       "      <td>DEF</td>\n",
       "      <td>Schleswig-Holstein</td>\n",
       "      <td>POINT (9.15000 54.51670)</td>\n",
       "    </tr>\n",
       "  </tbody>\n",
       "</table>\n",
       "</div>"
      ],
      "text/plain": [
       "      id  latitude  longitude  elevation daily_start  daily_end NUTS_CODE_3  \\\n",
       "0  10015   54.1833     7.9000        4.0  1952-05-01 2023-01-04       DEF09   \n",
       "1  10018   54.9167     8.3500       16.0  2009-02-24 2022-04-25       DEF07   \n",
       "2  10020   55.0167     8.4167       26.0  1931-01-01 2023-01-04       DEF07   \n",
       "3  10022   54.8000     8.9500        7.0  1973-01-01 2023-01-04       DEF07   \n",
       "4  10026   54.5167     9.1500       28.0  1891-01-01 1974-06-30       DEF07   \n",
       "\n",
       "     NUTS_NAME_3 NUTS_CODE_2         NUTS_NAME_2 NUTS_CODE_1  \\\n",
       "0      Pinneberg        DEF0  Schleswig-Holstein         DEF   \n",
       "1  Nordfriesland        DEF0  Schleswig-Holstein         DEF   \n",
       "2  Nordfriesland        DEF0  Schleswig-Holstein         DEF   \n",
       "3  Nordfriesland        DEF0  Schleswig-Holstein         DEF   \n",
       "4  Nordfriesland        DEF0  Schleswig-Holstein         DEF   \n",
       "\n",
       "          NUTS_NAME_1                  geometry  \n",
       "0  Schleswig-Holstein  POINT (7.90000 54.18330)  \n",
       "1  Schleswig-Holstein  POINT (8.35000 54.91670)  \n",
       "2  Schleswig-Holstein  POINT (8.41670 55.01670)  \n",
       "3  Schleswig-Holstein  POINT (8.95000 54.80000)  \n",
       "4  Schleswig-Holstein  POINT (9.15000 54.51670)  "
      ]
     },
     "execution_count": 6,
     "metadata": {},
     "output_type": "execute_result"
    }
   ],
   "source": [
    "stations:gp.GeoDataFrame\n",
    "stations = gp.read_file(\"./prod/stationinfo.geojson\")\n",
    "stations.head()"
   ]
  },
  {
   "cell_type": "markdown",
   "metadata": {},
   "source": [
    "## Weather data\n",
    "Now that we have all the spacial data the only thing left to do is to get the historical weather data"
   ]
  },
  {
   "cell_type": "code",
   "execution_count": 7,
   "metadata": {},
   "outputs": [],
   "source": [
    "# setup cache\n",
    "Daily.cache_dir = \"./prod/.meteostat/cache\"\n",
    "Daily.max_age = 12000000 # approx 4 months cache time \n",
    "Daily.threads = 20\n",
    "\n",
    "# start end endtime of SOEP panel\n",
    "start = datetime(1985, 1, 1)\n",
    "end = datetime.combine(date.today(), datetime.min.time())\n",
    "\n",
    "def task(station:pd.DataFrame, pbar:tqdm):\n",
    "    s_id = station[\"id\"]\n",
    "    daily = Daily(s_id, start=start, end=end)\n",
    "    data = daily.fetch()\n",
    "    data['id'] = s_id\n",
    "    data.to_csv(f'./prod/stationdata/{s_id}.csv')\n",
    "    pbar.update()"
   ]
  },
  {
   "cell_type": "code",
   "execution_count": 8,
   "metadata": {},
   "outputs": [
    {
     "name": "stderr",
     "output_type": "stream",
     "text": [
      "100%|██████████| 1116/1116 [03:52<00:00,  4.80it/s]\n"
     ]
    }
   ],
   "source": [
    "found = listdir('./prod/stationdata/')\n",
    "found = set(map(lambda x: x.replace('.csv', ''), found))\n",
    "\n",
    "work = queue.Queue()\n",
    "for _, station in stations.iterrows():\n",
    "    if station['id'] not in found:\n",
    "        work.put(station)\n",
    "\n",
    "pbar = tqdm(total=work.qsize())\n",
    "with ThreadPoolExecutor(max_workers=20) as executor:\n",
    "    while not work.empty():\n",
    "        station = work.get()\n",
    "        result = executor.submit(task, station, pbar)"
   ]
  }
 ],
 "metadata": {
  "kernelspec": {
   "display_name": "Python 3.11.0 ('thesis')",
   "language": "python",
   "name": "python3"
  },
  "language_info": {
   "codemirror_mode": {
    "name": "ipython",
    "version": 3
   },
   "file_extension": ".py",
   "mimetype": "text/x-python",
   "name": "python",
   "nbconvert_exporter": "python",
   "pygments_lexer": "ipython3",
   "version": "3.11.0 | packaged by conda-forge | (main, Oct 25 2022, 06:24:40) [GCC 10.4.0]"
  },
  "orig_nbformat": 4,
  "vscode": {
   "interpreter": {
    "hash": "10416539d8bd7745bfd84da934453afb2f17a286a80737bde1b4f151ea1b0bb8"
   }
  }
 },
 "nbformat": 4,
 "nbformat_minor": 2
}
