{
 "cells": [
  {
   "cell_type": "markdown",
   "id": "df8064bf",
   "metadata": {},
   "source": [
    "# Creating Weather Data\n",
    "\n",
    "In the following sections different weather tables are created. These tables differ in what their variables represent (e.g. nr of heat days) and also on the granularity of the data (e.g. nuts 1 vs. nuts 3 level).  "
   ]
  },
  {
   "cell_type": "markdown",
   "id": "7a266977",
   "metadata": {},
   "source": [
    "## Weather per Region\n",
    "\n",
    "In the following some examples on how to read weather data per region."
   ]
  },
  {
   "cell_type": "code",
   "execution_count": 10,
   "id": "32701acc-24a5-4467-9fb5-f3cc33a34eba",
   "metadata": {},
   "outputs": [],
   "source": [
    "# supress future warning\n",
    "import warnings\n",
    "warnings.simplefilter(action='ignore')\n",
    "\n",
    "# imports\n",
    "import matplotlib.pyplot as plt\n",
    "%matplotlib inline\n",
    "\n",
    "from src.helper import read_nuts_weather_data\n",
    "import pandas as pd\n",
    "import geopandas as gp\n",
    "from tqdm import tqdm"
   ]
  },
  {
   "cell_type": "markdown",
   "id": "6bc1c935",
   "metadata": {},
   "source": [
    "Here is an example on how to use the `get_nuts_weather_data` function:"
   ]
  },
  {
   "cell_type": "code",
   "execution_count": 11,
   "id": "ba119477",
   "metadata": {},
   "outputs": [],
   "source": [
    "stationinfo = gp.read_file('./prod/stationinfo.geojson')"
   ]
  },
  {
   "cell_type": "code",
   "execution_count": 12,
   "id": "c4ad8d4c",
   "metadata": {},
   "outputs": [
    {
     "name": "stderr",
     "output_type": "stream",
     "text": [
      "100%|██████████| 16/16 [02:13<00:00,  8.37s/it]\n",
      "100%|██████████| 38/38 [00:54<00:00,  1.43s/it]\n",
      "100%|██████████| 363/363 [01:38<00:00,  3.68it/s]\n",
      "100%|██████████| 3/3 [04:46<00:00, 95.62s/it]\n"
     ]
    }
   ],
   "source": [
    "for nuts in tqdm([1,2,3], position=0):\n",
    "    # get all the possible nuts ids\n",
    "    codes = stationinfo[f'NUTS_CODE_{nuts}'].unique()\n",
    "    # create df to hold all data\n",
    "    df = pd.DataFrame()\n",
    "\n",
    "    # get weather data for each code\n",
    "    for code in tqdm(codes, position=0):\n",
    "        new = read_nuts_weather_data(\n",
    "            infofile='./prod/stationinfo.geojson',\n",
    "            dirpath='./prod/stationdata',\n",
    "            nutslvl=nuts, \n",
    "            code=code,\n",
    "            bar=False\n",
    "        )\n",
    "        new.drop(columns=['latitude', 'longitude'], inplace=True)\n",
    "        new.reset_index(inplace=True)\n",
    "        new.drop(columns=f'NUTS_CODE_{nuts}', inplace=True)\n",
    "        new.to_csv(f'./prod/weatherdata/nuts{nuts}/{code}.csv', index=False)"
   ]
  }
 ],
 "metadata": {
  "kernelspec": {
   "display_name": "Python 3 (ipykernel)",
   "language": "python",
   "name": "python3"
  },
  "language_info": {
   "codemirror_mode": {
    "name": "ipython",
    "version": 3
   },
   "file_extension": ".py",
   "mimetype": "text/x-python",
   "name": "python",
   "nbconvert_exporter": "python",
   "pygments_lexer": "ipython3",
   "version": "3.11.0 | packaged by conda-forge | (main, Oct 25 2022, 06:24:40) [GCC 10.4.0]"
  },
  "vscode": {
   "interpreter": {
    "hash": "10416539d8bd7745bfd84da934453afb2f17a286a80737bde1b4f151ea1b0bb8"
   }
  }
 },
 "nbformat": 4,
 "nbformat_minor": 5
}
