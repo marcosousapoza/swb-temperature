{
 "cells": [
  {
   "cell_type": "markdown",
   "id": "cbaa0988-5b96-44ef-9bdf-25df4afec598",
   "metadata": {},
   "source": [
    "# Computation of climate variables"
   ]
  },
  {
   "cell_type": "markdown",
   "id": "727edbb1-4054-4dcd-a81f-5aa2bedd2c83",
   "metadata": {},
   "source": [
    "In the following we compute the variables from the fetched weather data."
   ]
  },
  {
   "cell_type": "code",
   "execution_count": 1,
   "id": "c3a540c5-6d04-4e2b-8d3d-ec4b564f178d",
   "metadata": {},
   "outputs": [],
   "source": [
    "import pandas as pd\n",
    "import numpy as np\n",
    "from sqlalchemy import create_engine, inspect\n",
    "from tqdm import tqdm "
   ]
  },
  {
   "cell_type": "code",
   "execution_count": 2,
   "id": "4044e73f-dc92-418f-ac3a-f2b23174136b",
   "metadata": {},
   "outputs": [],
   "source": [
    "# path of weather db\n",
    "path = \"prod/weather.db\"\n",
    "path_climate = \"prod/climate.db\""
   ]
  },
  {
   "cell_type": "code",
   "execution_count": 3,
   "id": "6040d594-7566-4cd1-bec4-dbb93876d735",
   "metadata": {},
   "outputs": [],
   "source": [
    "# create sql engine\n",
    "engine = create_engine(\"sqlite:///\"+path, echo=False)\n",
    "engine_climate = create_engine(\"sqlite:///\"+path_climate, echo=False)\n",
    "# get all table names\n",
    "insp = inspect(engine)\n",
    "tables = insp.get_table_names()"
   ]
  },
  {
   "cell_type": "code",
   "execution_count": 4,
   "id": "c37ce50e-4178-44f4-a29c-65c093f6e359",
   "metadata": {},
   "outputs": [],
   "source": [
    "# get all tables with weather data\n",
    "tables = list(filter(\n",
    "    lambda x: \"weather\" in x,\n",
    "    tables\n",
    "))"
   ]
  },
  {
   "cell_type": "code",
   "execution_count": 5,
   "id": "1afddecc-d5a6-4771-b1d3-cf9016e123da",
   "metadata": {},
   "outputs": [],
   "source": [
    "# function computing vars\n",
    "def compute_vars(data):\n",
    "    # compute monthly averages\n",
    "    return data.rolling(\"30D\", min_periods=20).mean()"
   ]
  },
  {
   "cell_type": "code",
   "execution_count": 6,
   "id": "ce864ca2-73a6-4a96-bca5-b70444e88a53",
   "metadata": {},
   "outputs": [
    {
     "name": "stderr",
     "output_type": "stream",
     "text": [
      "100%|███████████████████████████████████████████| 16/16 [00:36<00:00,  2.26s/it]\n"
     ]
    }
   ],
   "source": [
    "# read all the data and save as csv\n",
    "for table in tqdm(tables, total=len(tables)):\n",
    "    raw = pd.read_sql_table(\n",
    "        table, \n",
    "        engine,\n",
    "        parse_dates=True\n",
    "    ).set_index('time')\n",
    "    # create new table name\n",
    "    index = table.replace(\"weather\", \"climate\")\n",
    "    # split table\n",
    "    numeric = raw[\"tavg tmin tmax prcp snow wdir wspd wpgt pres tsun\".split()]\n",
    "    other = raw[\"nuts_name sloc\".split()]\n",
    "    # compute monthly averave\n",
    "    numeric = compute_vars(numeric)\n",
    "    # merge and save\n",
    "    numeric.join(other).to_sql(index, con=engine_climate, if_exists=\"replace\")"
   ]
  }
 ],
 "metadata": {
  "kernelspec": {
   "display_name": "Python 3 (ipykernel)",
   "language": "python",
   "name": "python3"
  },
  "language_info": {
   "codemirror_mode": {
    "name": "ipython",
    "version": 3
   },
   "file_extension": ".py",
   "mimetype": "text/x-python",
   "name": "python",
   "nbconvert_exporter": "python",
   "pygments_lexer": "ipython3",
   "version": "3.11.0"
  }
 },
 "nbformat": 4,
 "nbformat_minor": 5
}
