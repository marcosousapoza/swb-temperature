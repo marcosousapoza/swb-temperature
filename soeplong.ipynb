{
 "cells": [
  {
   "cell_type": "code",
   "execution_count": 1,
   "id": "0b6bedb9-e30c-4dc4-8a0d-e38202ca6bcd",
   "metadata": {},
   "outputs": [],
   "source": [
    "# relevant imports\n",
    "import pandas as pd\n",
    "import numpy as np"
   ]
  },
  {
   "cell_type": "markdown",
   "id": "f91792cc-ef3e-4e6f-916b-5d1bde9c3f6c",
   "metadata": {},
   "source": [
    "# Reading the SOEP Household data"
   ]
  },
  {
   "attachments": {},
   "cell_type": "markdown",
   "id": "a2653846-12d9-406e-9fa7-0a04f269e70f",
   "metadata": {},
   "source": [
    "Because the individual questionair file is quite big we will merge it soepwise with the weather and household data. Therefore we first read the hh files. All the required hh data can be found in two different data sets. These are merged in the following:"
   ]
  },
  {
   "cell_type": "code",
   "execution_count": 2,
   "id": "ddb4e8df-9113-4f22-9911-072310b4aa98",
   "metadata": {},
   "outputs": [],
   "source": [
    "hbrutto_path = \"./data/SOEP-CORE.v37eu_CSV/CSV/hbrutto.csv\"\n",
    "hl_path = \"./data/SOEP-CORE.v37eu_CSV/CSV/hl.csv\""
   ]
  },
  {
   "cell_type": "markdown",
   "id": "f8f9852b-a66d-4e02-81b8-c5dd0af3142c",
   "metadata": {},
   "source": [
    "`hbrutto` contains meta data about the interviews. This includes data such as \"day of interview\", \"location\", etc. The `hl` file contains the interview responses of all waves in a long format."
   ]
  },
  {
   "attachments": {},
   "cell_type": "markdown",
   "id": "206b7ee1-e64d-4319-badb-771b3df06412",
   "metadata": {},
   "source": [
    "In the following are the columns of interest with in the `hl` and `hbrutto` file with the corresponding meaning:"
   ]
  },
  {
   "cell_type": "code",
   "execution_count": 3,
   "id": "77010969-2ce6-4900-ad79-8ba7c4c56e68",
   "metadata": {},
   "outputs": [],
   "source": [
    "hl_var = [\n",
    "    # keys for merging\n",
    "    \"syear\", # survey year -> prim. key\n",
    "    \"hid\", # hh id -> prim. key\n",
    "    # hh control variables:\n",
    "    \"hlc0005_h\", #[de] Monatliches HH-Netto-Einkommen [harmonisiert]\n",
    "    \"hlc0043\", # Number Children\n",
    "    \"hlf0001_h\", # Homewonership\n",
    "    \"hlk0056\" # Type of interview\n",
    "] # \n",
    "\n",
    "hbrutto_var = {\n",
    "    \"syear\",  # survey year -> prim. key\n",
    "    \"hid\",  # hh id -> prim. key\n",
    "    \"bula_h\" # location -> bundesland\n",
    "}"
   ]
  },
  {
   "cell_type": "markdown",
   "id": "6222c497-7097-430a-ab82-0007852ff286",
   "metadata": {},
   "source": [
    "The two files are now read in to their respective dataframe."
   ]
  },
  {
   "cell_type": "code",
   "execution_count": 4,
   "id": "6c2ec0f3-5dba-481e-9ef9-405a47fd885b",
   "metadata": {},
   "outputs": [],
   "source": [
    "df_hl = pd.read_csv(hl_path, usecols=hl_var)"
   ]
  },
  {
   "cell_type": "code",
   "execution_count": 5,
   "id": "f351c1b0-7d6e-4609-93b7-86f60989d99f",
   "metadata": {},
   "outputs": [],
   "source": [
    "df_hbrutto = pd.read_csv(hbrutto_path, usecols=hbrutto_var)"
   ]
  },
  {
   "cell_type": "markdown",
   "id": "1d9c2812-87bc-47a6-91f4-0a5e581806db",
   "metadata": {},
   "source": [
    "The two dataframes can now be merged on their primary key. According to the documentation of the db the prim. keys are `hid` and `syear`."
   ]
  },
  {
   "cell_type": "code",
   "execution_count": 6,
   "id": "e1fab759-5662-4502-955b-f05272a2cd3f",
   "metadata": {},
   "outputs": [],
   "source": [
    "df_hh = df_hl.merge(df_hbrutto, how=\"inner\", on=[\"hid\", \"syear\"])"
   ]
  },
  {
   "cell_type": "markdown",
   "id": "55eff551-7a42-43b9-a2c7-03645d62939a",
   "metadata": {},
   "source": [
    "# Reading the SOEP Individual Data"
   ]
  },
  {
   "cell_type": "markdown",
   "id": "3264fa14-2a64-48ad-8382-a719d4a608bf",
   "metadata": {},
   "source": [
    "Now we read the individual data. This dataset includes the target variable *SWB* as well as many other control variables. The datasets that contain the information used in this analysis are `ppathl` (tracking file) and `pl` (data)"
   ]
  },
  {
   "cell_type": "code",
   "execution_count": 7,
   "id": "c5f2098d-36f8-4798-a465-fd6113dcb620",
   "metadata": {},
   "outputs": [],
   "source": [
    "ppathl_path = \"./data/SOEP-CORE.v37eu_CSV/CSV/ppathl.csv\"\n",
    "pequiv_path = \"./data/SOEP-CORE.v37eu_CSV/CSV/pequiv.csv\"\n",
    "pl_path = \"./data/SOEP-CORE.v37eu_CSV/CSV/pl.csv\""
   ]
  },
  {
   "cell_type": "code",
   "execution_count": 8,
   "id": "52c2cd27-a42c-4bd6-9899-b569ee227b2e",
   "metadata": {},
   "outputs": [],
   "source": [
    "ppathl_var = {\n",
    "    \"pid\", # person id -> prim. key\n",
    "    \"syear\", #survey year -> prim. key\n",
    "    # relevant covariates\n",
    "    \"sex\", # gender [1] female [2] male\n",
    "    \"gebjahr\", # year of birth\n",
    "    \"partner\" # [0] no partner, [1] spouse, [2] partner,\n",
    "                              # [3] Probably spouse, [4] probably partner\n",
    "    # NOTE: join 1&3 and 2&4\n",
    "}\n",
    "\n",
    "pequiv_var = {\n",
    "    \"pid\", # person id -> prim. key\n",
    "    \"syear\", #survey year -> prim. key\n",
    "    \"d11109\", #years of education: Year of eduction: numerical\n",
    "    # NOTE: many nan values\n",
    "    \"m11124\", # Disability status: [0] Not Disabled, [1] Disabled\n",
    "    \"e11103\" # Labor Participation: [1] Full Time, [2] Part Time, [3] Not Working\n",
    "}\n",
    "\n",
    "pl_var = {\n",
    "    # ids\n",
    "    \"pid\",  # person id -> prim. key\n",
    "    \"syear\",  #survey year -> prim. key\n",
    "    \"hid\",  # hh id -> prim. key\n",
    "    # target variable\n",
    "    \"plh0182\", # Current life satisfaction [0-10]\n",
    "    # relevant covariates\n",
    "    \"ptagin\",  # day of interview\n",
    "    \"pmonin\",  # month of interview\n",
    "    \"plh0171\",  # Current Health: [1-5] (1=schlecht, 10=gut)\n",
    "    \"plb0021\",  # Arbeitslos gemeldet: [2] No [1] Yes\n",
    "    \"plh0173\",  # satisfaction with work: [0-10] not satisfied <-> very satisfied\n",
    "    \"plh0174\",  # satisfaction with home work:  [0-10] not satisfied <-> very satisfied \n",
    "    # NOTE: take max of plh0173 and plh0174\n",
    "    \"plh0175\" # Satisfaction With Household Income\n",
    "}"
   ]
  },
  {
   "cell_type": "markdown",
   "id": "e58124a1-3c52-4c6c-bbf6-90846fe30f06",
   "metadata": {},
   "source": [
    "The `ppathl` contains the tracking data of a person. This includes for instance the age or marital status."
   ]
  },
  {
   "cell_type": "code",
   "execution_count": 9,
   "id": "03cec35e-1be9-47ee-af5d-49d1a3e1a359",
   "metadata": {},
   "outputs": [],
   "source": [
    "df_ppathl = pd.read_csv(ppathl_path, usecols=ppathl_var)\n",
    "# because [3] approx [1] and [4] approx [2]:\n",
    "df_ppathl[df_ppathl['partner'] == 3] = 1\n",
    "df_ppathl[df_ppathl['partner'] == 4] = 2"
   ]
  },
  {
   "cell_type": "code",
   "execution_count": 10,
   "id": "271322be",
   "metadata": {},
   "outputs": [],
   "source": [
    "df_pequiv = pd.read_csv(pequiv_path, usecols=pequiv_var)"
   ]
  },
  {
   "attachments": {},
   "cell_type": "markdown",
   "id": "89724dbe-5054-4135-a849-d757419879b9",
   "metadata": {},
   "source": [
    "In the following we merge all the dataframes loaded into memory."
   ]
  },
  {
   "cell_type": "code",
   "execution_count": 12,
   "id": "f61636b6-625a-401e-9cf7-dd64f79f43d5",
   "metadata": {},
   "outputs": [],
   "source": [
    "soep = pd.read_csv(pl_path, usecols=pl_var)\n",
    "# because (plh0173 approx plh0174):\n",
    "soep[\"plh0173\"] = soep[[\"plh0173\", \"plh0174\"]].max()\n",
    "soep.drop(columns=\"plh0174\", inplace=True)\n",
    "\n",
    "## MERGE WITH OTHER DATASETS\n",
    "# merge with tracking data\n",
    "soep = soep.merge(df_ppathl, on=[\"syear\", \"pid\"], how=\"inner\")\n",
    "# merge with pequiv (TODO what is this table)\n",
    "soep = soep.merge(df_pequiv, on=[\"syear\", \"pid\"], how=\"inner\")\n",
    "# merge with household\n",
    "soep = soep.merge(df_hh, on=[\"syear\", \"hid\"], how=\"inner\")\n",
    "\n",
    "## CALCULATE RELEVANT VARIABLES\n",
    "# age:\n",
    "soep[\"age\"] = soep[\"syear\"] - soep[\"gebjahr\"]\n",
    "# time stamp:\n",
    "soep.rename({'syear':\"year\", 'pmonin':\"month\", 'ptagin':\"day\"}, axis=1, inplace=True)\n",
    "soep[\"time\"] = pd.to_datetime(soep[['year', 'month', 'day']], errors='coerce')\n",
    "# drop unuseful columns:\n",
    "soep.drop(['year', 'month', 'day', 'gebjahr'], axis=1, inplace=True)\n",
    "# delete invalid time stamps as they cannot be merged with climate data:\n",
    "soep = soep[soep['time'].notna()]\n",
    "\n",
    "## SAFE DATAFRAME\n",
    "soep.to_csv(\"./prod/soeplong.csv\", index=False)"
   ]
  }
 ],
 "metadata": {
  "kernelspec": {
   "display_name": "Python 3.11.0 ('thesis')",
   "language": "python",
   "name": "python3"
  },
  "language_info": {
   "codemirror_mode": {
    "name": "ipython",
    "version": 3
   },
   "file_extension": ".py",
   "mimetype": "text/x-python",
   "name": "python",
   "nbconvert_exporter": "python",
   "pygments_lexer": "ipython3",
   "version": "3.11.0 | packaged by conda-forge | (main, Oct 25 2022, 06:24:40) [GCC 10.4.0]"
  },
  "vscode": {
   "interpreter": {
    "hash": "10416539d8bd7745bfd84da934453afb2f17a286a80737bde1b4f151ea1b0bb8"
   }
  }
 },
 "nbformat": 4,
 "nbformat_minor": 5
}
