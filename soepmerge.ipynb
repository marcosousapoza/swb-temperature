{
 "cells": [
  {
   "cell_type": "code",
   "execution_count": 1,
   "id": "0b6bedb9-e30c-4dc4-8a0d-e38202ca6bcd",
   "metadata": {},
   "outputs": [],
   "source": [
    "# relevant imports\n",
    "import pandas as pd\n",
    "import numpy as np"
   ]
  },
  {
   "cell_type": "markdown",
   "id": "f91792cc-ef3e-4e6f-916b-5d1bde9c3f6c",
   "metadata": {},
   "source": [
    "# Reading the SOEP Household data"
   ]
  },
  {
   "cell_type": "markdown",
   "id": "a2653846-12d9-406e-9fa7-0a04f269e70f",
   "metadata": {},
   "source": [
    "Because the individual questionair file is quite big we will merge it soepwise with the weather and household data. Therefore we first read the hh files. All the required hh data can be found in two different data sets. These are merged in the following:"
   ]
  },
  {
   "cell_type": "code",
   "execution_count": 2,
   "id": "ddb4e8df-9113-4f22-9911-072310b4aa98",
   "metadata": {},
   "outputs": [],
   "source": [
    "hbrutto_path = \"./data/SOEP-CORE.v37eu_CSV/CSV/hbrutto.csv\"\n",
    "hl_path = \"./data/SOEP-CORE.v37eu_CSV/CSV/hl.csv\""
   ]
  },
  {
   "cell_type": "markdown",
   "id": "f8f9852b-a66d-4e02-81b8-c5dd0af3142c",
   "metadata": {},
   "source": [
    "`hbrutto` contains meta data about the interviews. This includes data such as \"day of interview\", \"location\", etc. The `hl` file contains the interview responses of all waves in a long format."
   ]
  },
  {
   "cell_type": "markdown",
   "id": "206b7ee1-e64d-4319-badb-771b3df06412",
   "metadata": {},
   "source": [
    "In the following are the columns of interest with in the `hl` and `hbrutto` file with the corresponding meaning:"
   ]
  },
  {
   "cell_type": "code",
   "execution_count": 3,
   "id": "77010969-2ce6-4900-ad79-8ba7c4c56e68",
   "metadata": {},
   "outputs": [],
   "source": [
    "hl_var = [\n",
    "    # keys for merging\n",
    "    \"syear\", # survey year -> prim. key\n",
    "    \"hid\", # hh id -> prim. key\n",
    "    # hh control variables:\n",
    "    \"hlc0005_h\", #[de] Monatliches HH-Netto-Einkommen [harmonisiert]\n",
    "    \"hlc0043\", # Number Children\n",
    "    \"hlf0001_h\", # Homewonership\n",
    "    \"hlk0056\" # Type of interview\n",
    "] # \n",
    "\n",
    "hbrutto_var = {\n",
    "    \"syear\",  # survey year -> prim. key\n",
    "    \"hid\",  # hh id -> prim. key\n",
    "    \"bula_h\" # location -> bundesland\n",
    "}"
   ]
  },
  {
   "cell_type": "markdown",
   "id": "6222c497-7097-430a-ab82-0007852ff286",
   "metadata": {},
   "source": [
    "The two files are now read in to their respective dataframe."
   ]
  },
  {
   "cell_type": "code",
   "execution_count": 4,
   "id": "6c2ec0f3-5dba-481e-9ef9-405a47fd885b",
   "metadata": {},
   "outputs": [],
   "source": [
    "df_hl = pd.read_csv(hl_path, usecols=hl_var)"
   ]
  },
  {
   "cell_type": "code",
   "execution_count": 5,
   "id": "f351c1b0-7d6e-4609-93b7-86f60989d99f",
   "metadata": {},
   "outputs": [],
   "source": [
    "df_hbrutto = pd.read_csv(hbrutto_path, usecols=hbrutto_var)"
   ]
  },
  {
   "cell_type": "markdown",
   "id": "1d9c2812-87bc-47a6-91f4-0a5e581806db",
   "metadata": {},
   "source": [
    "The two dataframes can now be merged on their primary key. According to the documentation of the db the prim. keys are `hid` and `syear`."
   ]
  },
  {
   "cell_type": "code",
   "execution_count": 6,
   "id": "e1fab759-5662-4502-955b-f05272a2cd3f",
   "metadata": {},
   "outputs": [],
   "source": [
    "df_hh = df_hl.merge(df_hbrutto, how=\"inner\", on=[\"hid\", \"syear\"])\n",
    "del df_hl, df_hbrutto"
   ]
  },
  {
   "cell_type": "markdown",
   "id": "55eff551-7a42-43b9-a2c7-03645d62939a",
   "metadata": {},
   "source": [
    "# Reading the SOEP Individual Data"
   ]
  },
  {
   "cell_type": "markdown",
   "id": "3264fa14-2a64-48ad-8382-a719d4a608bf",
   "metadata": {},
   "source": [
    "Now we read the individual data. This dataset includes the target variable *SWB* as well as many other control variables. The datasets that contain the information used in this analysis are `ppathl` (tracking file) and `pl` (data)"
   ]
  },
  {
   "cell_type": "code",
   "execution_count": 7,
   "id": "c5f2098d-36f8-4798-a465-fd6113dcb620",
   "metadata": {},
   "outputs": [],
   "source": [
    "ppathl_path = \"./data/SOEP-CORE.v37eu_CSV/CSV/ppathl.csv\"\n",
    "pequiv_path = \"./data/SOEP-CORE.v37eu_CSV/CSV/pequiv.csv\"\n",
    "pl_path = \"./data/SOEP-CORE.v37eu_CSV/CSV/pl.csv\""
   ]
  },
  {
   "cell_type": "code",
   "execution_count": 8,
   "id": "52c2cd27-a42c-4bd6-9899-b569ee227b2e",
   "metadata": {},
   "outputs": [],
   "source": [
    "ppathl_var = {\n",
    "    \"pid\", # person id -> prim. key\n",
    "    \"syear\", #survey year -> prim. key\n",
    "    # relevant covariates\n",
    "    \"sex\", # gender [1] female [2] male\n",
    "    \"gebjahr\", # year of birth\n",
    "    \"partner\" # [0] no partner, [1] spouse, [2] partner,\n",
    "              # [3] Probably spouse, [4] probably partner\n",
    "    # NOTE: join 1&3 and 2&4\n",
    "}\n",
    "\n",
    "pequiv_var = {\n",
    "    \"pid\", # person id -> prim. key\n",
    "    \"syear\", #survey year -> prim. key\n",
    "    \"d11109\", #years of education: Year of eduction: numerical\n",
    "    # NOTE: many nan values\n",
    "    \"m11124\", # Disability status: [0] Not Disabled, [1] Disabled\n",
    "    \"e11103\" # Labor Participation: [1] Full Time, [2] Part Time, [3] Not Working\n",
    "}\n",
    "\n",
    "pl_var = {\n",
    "    # ids\n",
    "    \"pid\",  # person id -> prim. key\n",
    "    \"syear\",  #survey year -> prim. key\n",
    "    \"hid\",  # hh id -> prim. key\n",
    "    # target variable\n",
    "    \"plh0182\", # Current life satisfaction [0-10]\n",
    "    # relevant covariates\n",
    "    \"ptagin\",  # day of interview\n",
    "    \"pmonin\",  # month of interview\n",
    "    \"plh0171\",  # Current Health: [1-10] (1=schlecht, 10=gut)\n",
    "    \"plb0021\",  # Arbeitslos gemeldet: [2] No [1] Yes\n",
    "    # NOTE: take max of plh0173 and plh0174\n",
    "    \"plh0175\" # Satisfaction With Household Income\n",
    "}"
   ]
  },
  {
   "cell_type": "markdown",
   "id": "e58124a1-3c52-4c6c-bbf6-90846fe30f06",
   "metadata": {},
   "source": [
    "The `ppathl` contains the tracking data of a person. This includes for instance the age or marital status."
   ]
  },
  {
   "cell_type": "code",
   "execution_count": 9,
   "id": "03cec35e-1be9-47ee-af5d-49d1a3e1a359",
   "metadata": {},
   "outputs": [],
   "source": [
    "df_ppathl = pd.read_csv(ppathl_path, usecols=ppathl_var)"
   ]
  },
  {
   "cell_type": "code",
   "execution_count": 10,
   "id": "271322be",
   "metadata": {},
   "outputs": [],
   "source": [
    "df_pequiv = pd.read_csv(pequiv_path, usecols=pequiv_var)"
   ]
  },
  {
   "cell_type": "markdown",
   "id": "89724dbe-5054-4135-a849-d757419879b9",
   "metadata": {},
   "source": [
    "In the following we merge all the dataframes loaded into memory."
   ]
  },
  {
   "cell_type": "code",
   "execution_count": 11,
   "id": "f61636b6-625a-401e-9cf7-dd64f79f43d5",
   "metadata": {},
   "outputs": [
    {
     "data": {
      "text/html": [
       "<div>\n",
       "<style scoped>\n",
       "    .dataframe tbody tr th:only-of-type {\n",
       "        vertical-align: middle;\n",
       "    }\n",
       "\n",
       "    .dataframe tbody tr th {\n",
       "        vertical-align: top;\n",
       "    }\n",
       "\n",
       "    .dataframe thead th {\n",
       "        text-align: right;\n",
       "    }\n",
       "</style>\n",
       "<table border=\"1\" class=\"dataframe\">\n",
       "  <thead>\n",
       "    <tr style=\"text-align: right;\">\n",
       "      <th></th>\n",
       "      <th>pid</th>\n",
       "      <th>time</th>\n",
       "      <th>hid</th>\n",
       "      <th>year</th>\n",
       "      <th>plb0021</th>\n",
       "      <th>plh0171</th>\n",
       "      <th>plh0175</th>\n",
       "      <th>plh0182</th>\n",
       "      <th>partner</th>\n",
       "      <th>sex</th>\n",
       "      <th>gebjahr</th>\n",
       "      <th>d11109</th>\n",
       "      <th>e11103</th>\n",
       "      <th>m11124</th>\n",
       "      <th>hlc0005_h</th>\n",
       "      <th>hlc0043</th>\n",
       "      <th>hlf0001_h</th>\n",
       "      <th>hlk0056</th>\n",
       "      <th>bula_h</th>\n",
       "      <th>plh0182d</th>\n",
       "    </tr>\n",
       "  </thead>\n",
       "  <tbody>\n",
       "    <tr>\n",
       "      <th>0</th>\n",
       "      <td>101</td>\n",
       "      <td>1985-03-21</td>\n",
       "      <td>19</td>\n",
       "      <td>1985</td>\n",
       "      <td>2</td>\n",
       "      <td>8</td>\n",
       "      <td>8</td>\n",
       "      <td>8</td>\n",
       "      <td>1</td>\n",
       "      <td>1</td>\n",
       "      <td>1930</td>\n",
       "      <td>15.0</td>\n",
       "      <td>1</td>\n",
       "      <td>0</td>\n",
       "      <td>-1</td>\n",
       "      <td>-8</td>\n",
       "      <td>1</td>\n",
       "      <td>3</td>\n",
       "      <td>11</td>\n",
       "      <td>NaN</td>\n",
       "    </tr>\n",
       "    <tr>\n",
       "      <th>1</th>\n",
       "      <td>101</td>\n",
       "      <td>1986-04-04</td>\n",
       "      <td>19</td>\n",
       "      <td>1986</td>\n",
       "      <td>2</td>\n",
       "      <td>7</td>\n",
       "      <td>7</td>\n",
       "      <td>10</td>\n",
       "      <td>1</td>\n",
       "      <td>1</td>\n",
       "      <td>1930</td>\n",
       "      <td>15.0</td>\n",
       "      <td>1</td>\n",
       "      <td>0</td>\n",
       "      <td>1790</td>\n",
       "      <td>-8</td>\n",
       "      <td>1</td>\n",
       "      <td>3</td>\n",
       "      <td>11</td>\n",
       "      <td>2.0</td>\n",
       "    </tr>\n",
       "    <tr>\n",
       "      <th>2</th>\n",
       "      <td>102</td>\n",
       "      <td>1985-03-21</td>\n",
       "      <td>19</td>\n",
       "      <td>1985</td>\n",
       "      <td>-1</td>\n",
       "      <td>8</td>\n",
       "      <td>8</td>\n",
       "      <td>8</td>\n",
       "      <td>1</td>\n",
       "      <td>2</td>\n",
       "      <td>1940</td>\n",
       "      <td>9.0</td>\n",
       "      <td>3</td>\n",
       "      <td>0</td>\n",
       "      <td>-1</td>\n",
       "      <td>-8</td>\n",
       "      <td>1</td>\n",
       "      <td>3</td>\n",
       "      <td>11</td>\n",
       "      <td>NaN</td>\n",
       "    </tr>\n",
       "    <tr>\n",
       "      <th>3</th>\n",
       "      <td>102</td>\n",
       "      <td>1986-04-04</td>\n",
       "      <td>19</td>\n",
       "      <td>1986</td>\n",
       "      <td>2</td>\n",
       "      <td>7</td>\n",
       "      <td>8</td>\n",
       "      <td>9</td>\n",
       "      <td>1</td>\n",
       "      <td>2</td>\n",
       "      <td>1940</td>\n",
       "      <td>9.0</td>\n",
       "      <td>3</td>\n",
       "      <td>0</td>\n",
       "      <td>1790</td>\n",
       "      <td>-8</td>\n",
       "      <td>1</td>\n",
       "      <td>3</td>\n",
       "      <td>11</td>\n",
       "      <td>1.0</td>\n",
       "    </tr>\n",
       "    <tr>\n",
       "      <th>4</th>\n",
       "      <td>103</td>\n",
       "      <td>1985-05-22</td>\n",
       "      <td>60305</td>\n",
       "      <td>1985</td>\n",
       "      <td>2</td>\n",
       "      <td>10</td>\n",
       "      <td>7</td>\n",
       "      <td>8</td>\n",
       "      <td>0</td>\n",
       "      <td>1</td>\n",
       "      <td>1963</td>\n",
       "      <td>12.0</td>\n",
       "      <td>1</td>\n",
       "      <td>0</td>\n",
       "      <td>1790</td>\n",
       "      <td>-8</td>\n",
       "      <td>1</td>\n",
       "      <td>3</td>\n",
       "      <td>11</td>\n",
       "      <td>NaN</td>\n",
       "    </tr>\n",
       "  </tbody>\n",
       "</table>\n",
       "</div>"
      ],
      "text/plain": [
       "   pid       time    hid  year  plb0021  plh0171  plh0175  plh0182  partner  \\\n",
       "0  101 1985-03-21     19  1985        2        8        8        8        1   \n",
       "1  101 1986-04-04     19  1986        2        7        7       10        1   \n",
       "2  102 1985-03-21     19  1985       -1        8        8        8        1   \n",
       "3  102 1986-04-04     19  1986        2        7        8        9        1   \n",
       "4  103 1985-05-22  60305  1985        2       10        7        8        0   \n",
       "\n",
       "   sex  gebjahr  d11109  e11103  m11124  hlc0005_h  hlc0043  hlf0001_h  \\\n",
       "0    1     1930    15.0       1       0         -1       -8          1   \n",
       "1    1     1930    15.0       1       0       1790       -8          1   \n",
       "2    2     1940     9.0       3       0         -1       -8          1   \n",
       "3    2     1940     9.0       3       0       1790       -8          1   \n",
       "4    1     1963    12.0       1       0       1790       -8          1   \n",
       "\n",
       "   hlk0056  bula_h  plh0182d  \n",
       "0        3      11       NaN  \n",
       "1        3      11       2.0  \n",
       "2        3      11       NaN  \n",
       "3        3      11       1.0  \n",
       "4        3      11       NaN  "
      ]
     },
     "execution_count": 11,
     "metadata": {},
     "output_type": "execute_result"
    }
   ],
   "source": [
    "soep = pd.read_csv(pl_path, usecols=pl_var)\n",
    "\n",
    "## MERGE WITH OTHER DATASETS\n",
    "# merge with tracking data\n",
    "soep = soep.merge(df_ppathl, on=[\"syear\", \"pid\"], how=\"inner\")\n",
    "del df_ppathl\n",
    "# merge with pequiv (TODO what is this table)\n",
    "soep = soep.merge(df_pequiv, on=[\"syear\", \"pid\"], how=\"inner\")\n",
    "del df_pequiv\n",
    "# merge with household\n",
    "soep = soep.merge(df_hh, on=[\"syear\", \"hid\"], how=\"inner\")\n",
    "del df_hh\n",
    "\n",
    "## CALCULATE RELEVANT VARIABLES\n",
    "# time stamp:\n",
    "soep.rename({'syear':\"year\", 'pmonin':\"month\", 'ptagin':\"day\"}, axis=1, inplace=True)\n",
    "soep[\"time\"] = pd.to_datetime(soep[['year', 'month', 'day']], errors='coerce')\n",
    "# drop unuseful columns:\n",
    "soep.drop(['day', 'month'], axis=1, inplace=True)\n",
    "# delete invalid time stamps as they cannot be merged with climate data:\n",
    "soep = soep[soep['time'].notna()]\n",
    "\n",
    "## DROP DUPLICATE ROWS\n",
    "soep.set_index(['pid', 'time'], inplace=True)\n",
    "soep.sort_index(inplace=True)\n",
    "soep = soep[~soep.index.duplicated(keep='first')]\n",
    "\n",
    "## CALCULATE CHANGE IN SWB\n",
    "soep['plh0182d'] = soep[['plh0182']].groupby('pid').diff(periods=1, axis=0)\n",
    "soep.reset_index(inplace=True)\n",
    "\n",
    "## PRINT EXAMPLE\n",
    "soep.head()"
   ]
  },
  {
   "cell_type": "markdown",
   "id": "b48e842c-3d1a-447a-bf78-ebcd82e59955",
   "metadata": {},
   "source": [
    "# Data Cleanup\n",
    "\n",
    "Most of the variables need some manual preparation when it comes to negative values. The conventions for missing values in SOEP is:\n",
    "\n",
    "| Code | Label                                              | \n",
    "|------|----------------------------------------------------|\n",
    "| -1   | No answer / don’t know                             |\n",
    "| -2   | Does not apply                                     |\n",
    "| -3   | Implausible value                                  |\n",
    "| -4   | Inadmissable multiple response                     |\n",
    "| -5   | Not included in this version of the questionnaire  |\n",
    "| -6   | Version of questionnaire with modified filtering   |\n",
    "| -7   | Only available in less restricted edition          |\n",
    "| -8   | Question not part of the survey program this year  |\n",
    "\n"
   ]
  },
  {
   "cell_type": "code",
   "execution_count": 12,
   "id": "24aa1ca5-33b1-4687-8d42-6e7ed7aa48a7",
   "metadata": {},
   "outputs": [],
   "source": [
    "import seaborn as sns\n",
    "import matplotlib.pyplot as plt\n",
    "\n",
    "%matplotlib inline"
   ]
  },
  {
   "cell_type": "markdown",
   "id": "2f39b551-2e79-4fd5-bfa7-92834b0d1861",
   "metadata": {},
   "source": [
    "The number of children is a numerical value. If a person did not have children the value is $-2$. This is changed to 0.\n",
    "All the other values are nan values. However, since the number of children does not change ofter, we can fill nan values with earlier observations."
   ]
  },
  {
   "cell_type": "code",
   "execution_count": 13,
   "id": "fa0aeb91-c6b0-4871-9bf8-0cfa7c7f67c4",
   "metadata": {},
   "outputs": [
    {
     "data": {
      "text/plain": [
       "<AxesSubplot: xlabel='hlc0043'>"
      ]
     },
     "execution_count": 13,
     "metadata": {},
     "output_type": "execute_result"
    },
    {
     "data": {
      "image/png": "[encoded data removed]",
      "text/plain": [
       "<Figure size 640x480 with 1 Axes>"
      ]
     },
     "metadata": {},
     "output_type": "display_data"
    }
   ],
   "source": [
    "soep['hlc0043'] = soep['hlc0043'].replace({-2:0})\n",
    "soep.loc[soep['hlc0043'] < 0, 'hlc0043'] = np.nan\n",
    "soep['hlc0043'] = soep['hlc0043'].fillna(method='ffill')\n",
    "soep[['hlc0043']].value_counts(dropna=False).plot(kind='bar')"
   ]
  },
  {
   "cell_type": "markdown",
   "id": "5d96ec00-3a1a-4b99-9e30-7af126d78d69",
   "metadata": {},
   "source": [
    "The partner variable also has some redundant values. We have that $[3] \\approx [1]$ and $[4] \\approx [2]$. Furthermore, we have that $[5]$ stands for \"unsure\". \n",
    "Therefore, $[5]$ will be set to nan. "
   ]
  },
  {
   "cell_type": "code",
   "execution_count": 14,
   "id": "af7c2379-9a37-496b-8b15-0cc4a7ffb735",
   "metadata": {},
   "outputs": [
    {
     "data": {
      "text/plain": [
       "<AxesSubplot: xlabel='partner'>"
      ]
     },
     "execution_count": 14,
     "metadata": {},
     "output_type": "execute_result"
    },
    {
     "data": {
      "image/png": "[encoded data removed]",
      "text/plain": [
       "<Figure size 640x480 with 1 Axes>"
      ]
     },
     "metadata": {},
     "output_type": "display_data"
    }
   ],
   "source": [
    "# clean values\n",
    "soep.loc[soep['partner'] == 3, 'partner'] = 1\n",
    "soep.loc[soep['partner'] == 4, 'partner'] = 2\n",
    "# the rest is nan\n",
    "soep.loc[(soep['partner'] == 5) | (soep['partner'] < 0), 'partner'] = np.nan\n",
    "soep[['partner']].value_counts(dropna=False).plot(kind='bar')"
   ]
  },
  {
   "cell_type": "markdown",
   "id": "7728948f-bbbc-4012-a2dc-9144e5b63cde",
   "metadata": {},
   "source": [
    "With year of birth negative values are missing. We can use this variable to calculate the age of each person. Each age that is over 120 is concidered an outlier."
   ]
  },
  {
   "cell_type": "code",
   "execution_count": 15,
   "id": "d6db8e80-a03d-4329-b072-5c7f2c47b58f",
   "metadata": {},
   "outputs": [
    {
     "data": {
      "text/plain": [
       "<AxesSubplot: >"
      ]
     },
     "execution_count": 15,
     "metadata": {},
     "output_type": "execute_result"
    },
    {
     "data": {
      "image/png": "[encoded data removed]",
      "text/plain": [
       "<Figure size 640x480 with 1 Axes>"
      ]
     },
     "metadata": {},
     "output_type": "display_data"
    }
   ],
   "source": [
    "soep.loc[soep['gebjahr'] < 1800, 'gebjahr'] = np.nan\n",
    "soep[\"age\"] = soep[\"year\"] - soep[\"gebjahr\"]\n",
    "soep[soep[\"age\"] > 120] = np.nan\n",
    "soep['age'].hist(bins=20)"
   ]
  },
  {
   "cell_type": "markdown",
   "id": "457c9e96-dc97-40de-ae1f-eb712f24ae85",
   "metadata": {},
   "source": [
    "Years of education can also be padded with old values. "
   ]
  },
  {
   "cell_type": "code",
   "execution_count": 16,
   "id": "69ff31b4-e0be-4572-8017-ea19208fc6c6",
   "metadata": {},
   "outputs": [
    {
     "data": {
      "text/plain": [
       "<AxesSubplot: >"
      ]
     },
     "execution_count": 16,
     "metadata": {},
     "output_type": "execute_result"
    },
    {
     "data": {
      "image/png": "[encoded data removed]",
      "text/plain": [
       "<Figure size 640x480 with 1 Axes>"
      ]
     },
     "metadata": {},
     "output_type": "display_data"
    }
   ],
   "source": [
    "soep.loc[soep['d11109'] < 0, 'd11109'] = np.nan\n",
    "soep['d11109'] = soep['d11109'].fillna(method='ffill', limit=2)\n",
    "soep['d11109'].hist(bins=20)"
   ]
  },
  {
   "cell_type": "markdown",
   "id": "6ca79713-de6d-4276-84ba-72ce4aed51ed",
   "metadata": {},
   "source": [
    "In the follwoing variables the negative values add no information and are therefore just set to nan:"
   ]
  },
  {
   "cell_type": "code",
   "execution_count": 17,
   "id": "1227b58d-56ce-42cb-933e-c3097006b3dd",
   "metadata": {},
   "outputs": [],
   "source": [
    "cols = ['hlc0005_h', 'hlf0001_h', 'hlk0056', 'bula_h', 'hlk0056', 'hlf0001_h', 'sex']\n",
    "for col in cols:\n",
    "    soep.loc[soep[col] < 0, col] = np.nan"
   ]
  },
  {
   "cell_type": "markdown",
   "id": "8ffb1691-4920-4482-bafc-78f583f0be6f",
   "metadata": {},
   "source": [
    "Save the dataframe"
   ]
  },
  {
   "cell_type": "code",
   "execution_count": 18,
   "id": "26f1866a-15c1-4b3f-8481-0fb32fc7d6f2",
   "metadata": {},
   "outputs": [],
   "source": [
    "soep.to_csv(\"./prod/soeplong.csv\", index=True)"
   ]
  }
 ],
 "metadata": {
  "kernelspec": {
   "display_name": "Python 3 (ipykernel)",
   "language": "python",
   "name": "python3"
  },
  "language_info": {
   "codemirror_mode": {
    "name": "ipython",
    "version": 3
   },
   "file_extension": ".py",
   "mimetype": "text/x-python",
   "name": "python",
   "nbconvert_exporter": "python",
   "pygments_lexer": "ipython3",
   "version": "3.11.0"
  },
  "vscode": {
   "interpreter": {
    "hash": "10416539d8bd7745bfd84da934453afb2f17a286a80737bde1b4f151ea1b0bb8"
   }
  }
 },
 "nbformat": 4,
 "nbformat_minor": 5
}
